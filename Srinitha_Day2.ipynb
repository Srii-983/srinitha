{
  "nbformat": 4,
  "nbformat_minor": 0,
  "metadata": {
    "colab": {
      "provenance": [],
      "include_colab_link": true
    },
    "kernelspec": {
      "name": "python3",
      "display_name": "Python 3"
    },
    "language_info": {
      "name": "python"
    }
  },
  "cells": [
    {
      "cell_type": "markdown",
      "metadata": {
        "id": "view-in-github",
        "colab_type": "text"
      },
      "source": [
        "<a href=\"https://colab.research.google.com/github/Srii-983/srinitha/blob/main/Srinitha_Day2.ipynb\" target=\"_parent\"><img src=\"https://colab.research.google.com/assets/colab-badge.svg\" alt=\"Open In Colab\"/></a>"
      ]
    },
    {
      "cell_type": "markdown",
      "source": [
        "## 1.Difference between the list and tuple?"
      ],
      "metadata": {
        "id": "HN6tCq60j2mQ"
      }
    },
    {
      "cell_type": "code",
      "source": [
        "# List\n",
        "l = [1, 2, 3, 4]\n",
        "print(\"List:\",l)\n",
        "\n",
        "# Add an element to the list\n",
        "l.append(5)\n",
        "print(\"List with added element:\",l)\n",
        "\n",
        "# Remove an element from the list\n",
        "l.remove(2)\n",
        "print(\"List with removed element:\", l)\n",
        "\n",
        "# Tuple\n",
        "t = (1, 2, 3, 4)\n",
        "print(\"Tuple:\", t)\n",
        "\n",
        "# Attempting to modify a tuple will result an error\n",
        "#t[2] = 10\n",
        "#print(t)"
      ],
      "metadata": {
        "id": "Cw8ffkhMk6RQ",
        "colab": {
          "base_uri": "https://localhost:8080/"
        },
        "outputId": "c2cbde89-4a21-466f-f4e0-332ddce9eaaf"
      },
      "execution_count": 5,
      "outputs": [
        {
          "output_type": "stream",
          "name": "stdout",
          "text": [
            "List: [1, 2, 3, 4]\n",
            "List with added element: [1, 2, 3, 4, 5]\n",
            "List with removed element: [1, 3, 4, 5]\n",
            "Tuple: (1, 2, 3, 4)\n",
            "(1, 2, 3, 4)\n"
          ]
        }
      ]
    },
    {
      "cell_type": "markdown",
      "source": [
        "## 2.How list is different from an array"
      ],
      "metadata": {
        "id": "uWhJG7hzk6Ov"
      }
    },
    {
      "cell_type": "code",
      "source": [
        "#lists\n",
        "l = [10, 382, 43, 99]\n",
        "print(\"List:\", l)\n",
        "\n",
        "# Lists can have elements of different data types\n",
        "new_l= [1, \"apple\", 3.14, [4, 5]]\n",
        "print(\"List:\", l)\n",
        "\n",
        "# Using NumPy arrays\n",
        "import numpy as np\n",
        "\n",
        "# Creating a NumPy array\n",
        "arr= np.array([1, 2, 3, 4])\n",
        "print(\"Array:\",arr)\n",
        "\n",
        "#Arrays store only homogeneous elements\n",
        "#If we try to store lements of different datatypes it will result in error\n",
        "#p = np.array([1, \"two\", 3.0, [4, 5]])\n",
        "#print(p)\n",
        "new_arr = arr ** 2\n",
        "print(\"Squared Array:\", new_arr)\n"
      ],
      "metadata": {
        "id": "MowyCcINo4Mn",
        "colab": {
          "base_uri": "https://localhost:8080/"
        },
        "outputId": "74f5606d-267c-4fe7-f0aa-1a7d7d3f6d1d"
      },
      "execution_count": 8,
      "outputs": [
        {
          "output_type": "stream",
          "name": "stdout",
          "text": [
            "List: [10, 382, 43, 99]\n",
            "List: [10, 382, 43, 99]\n",
            "Array: [1 2 3 4]\n",
            "Squared Array: [ 1  4  9 16]\n"
          ]
        }
      ]
    },
    {
      "cell_type": "markdown",
      "source": [],
      "metadata": {
        "id": "1uPEIFbxmQwt"
      }
    },
    {
      "cell_type": "markdown",
      "source": [
        "## 3. Use the python list append(),copy(), clear, count, extends(), index(), insert(), pop(), reverse(), sort(), min(), max(),and sum()"
      ],
      "metadata": {
        "id": "_0Rn7JQSk6M1"
      }
    },
    {
      "cell_type": "code",
      "source": [
        "# Creating a list\n",
        "l= [1,2,\"dog\",77,3.21,100]\n",
        "\n",
        "# appending element to list\n",
        "l.append(10)\n",
        "print(\"After append:\",l)\n",
        "\n",
        "# copying list\n",
        "copiedlist = l.copy()\n",
        "print(\"Copied List:\", copiedlist)\n",
        "\n",
        "#Removing all elements using clear function\n",
        "l.clear()\n",
        "print(\"After clear:\",l)\n",
        "\n",
        "# count() funtion results the number of occurences of element in the list\n",
        "l1 = [1,1,3,7,2,8,4,4,9,5]\n",
        "ct = l1.count(4)\n",
        "print(\"Count of 4:\", ct)\n",
        "\n",
        "# extend() function appends the elements of another list to the end of the current list\n",
        "ext = [\"man\",8,3]\n",
        "l1.extend(ext)\n",
        "print(\"After extending:\",l1)\n",
        "\n",
        "# index() returns the index of specified value\n",
        "ind = l1.index(3)\n",
        "print(\"Index of 3:\", ind)\n",
        "\n",
        "# insert() function inserts element at a specified position\n",
        "l1.insert(44,4)\n",
        "print(\"After inserting:\",l1)\n",
        "\n",
        "# pop() removes and returns the element at the specified index\n",
        "n = l1.pop(1)\n",
        "print(\"Popped Element:\",n)\n",
        "print(\"After popping:\",l1)\n",
        "\n",
        "# reverse() function reverses the list\n",
        "l1.reverse()\n",
        "print(\"After reversing:\",l1)\n",
        "\n",
        "# sort() funtion sorts the elements of the list in ascending order\n",
        "l2=[22,62,82,1,9,0,3,53]\n",
        "l2.sort()\n",
        "print(\"After sorting:\",l2)\n",
        "\n",
        "# min() returns the minimum value in the list\n",
        "minimum = min(l2)\n",
        "print(\"Minimum Value:\", minimum)\n",
        "\n",
        "# max() returns the maximum value in the list\n",
        "maximum = max(l2)\n",
        "print(\"Maximum Value:\", maximum)\n",
        "\n",
        "# sum() returns the sum of all elements in the list\n",
        "addition = sum(l2)\n",
        "print(\"Sum of Elements:\", addition)\n"
      ],
      "metadata": {
        "colab": {
          "base_uri": "https://localhost:8080/"
        },
        "id": "yJ7EdRqhH9Vg",
        "outputId": "ceaee26f-584b-452b-e1fd-27916ed5fcbf"
      },
      "execution_count": 12,
      "outputs": [
        {
          "output_type": "stream",
          "name": "stdout",
          "text": [
            "After append: [1, 2, 'dog', 77, 3.21, 100, 10]\n",
            "Copied List: [1, 2, 'dog', 77, 3.21, 100, 10]\n",
            "After clear: []\n",
            "Count of 4: 2\n",
            "After extending: [1, 1, 3, 7, 2, 8, 4, 4, 9, 5, 'man', 8, 3]\n",
            "Index of 3: 2\n",
            "After inserting: [1, 1, 3, 7, 2, 8, 4, 4, 9, 5, 'man', 8, 3, 4]\n",
            "Popped Element: 1\n",
            "After popping: [1, 3, 7, 2, 8, 4, 4, 9, 5, 'man', 8, 3, 4]\n",
            "After reversing: [4, 3, 8, 'man', 5, 9, 4, 4, 8, 2, 7, 3, 1]\n",
            "After sorting: [0, 1, 3, 9, 22, 53, 62, 82]\n",
            "Minimum Value: 0\n",
            "Maximum Value: 82\n",
            "Sum of Elements: 232\n"
          ]
        }
      ]
    },
    {
      "cell_type": "markdown",
      "source": [
        "## 4, How would you divide the list into two parts?"
      ],
      "metadata": {
        "id": "W9xfjUWak6J_"
      }
    },
    {
      "cell_type": "code",
      "source": [
        "#Divinding of list can be done using slicing\n",
        "m = [1,3,5,2,6,7,8,3,2,5]\n",
        "\n",
        "# Dividing the list into two parts\n",
        "half = len(m) // 2\n",
        "part1 =m[:half]\n",
        "part2 = m[half:]\n",
        "n=m[2:8]\n",
        "print(\"List:\",m)\n",
        "print(part1)\n",
        "print(part2)\n",
        "print(n)\n"
      ],
      "metadata": {
        "colab": {
          "base_uri": "https://localhost:8080/"
        },
        "id": "N4ODeACpMqD3",
        "outputId": "d27baeaa-7b5c-4d11-bc67-185b1de697c3"
      },
      "execution_count": 14,
      "outputs": [
        {
          "output_type": "stream",
          "name": "stdout",
          "text": [
            "List: [1, 3, 5, 2, 6, 7, 8, 3, 2, 5]\n",
            "[1, 3, 5, 2, 6]\n",
            "[7, 8, 3, 2, 5]\n",
            "[5, 2, 6, 7, 8, 3]\n"
          ]
        }
      ]
    },
    {
      "cell_type": "markdown",
      "source": [
        "## 5. how to filter the multiple of 3 from a given list and them remove the odd number from the new filtered list.\n",
        "Eg A = [1,2,3,4,5,6,7,8,9,21,23,24]\n",
        "Filter_lsit = [3,6,9,21,24]\n",
        "output_list = [6,24]"
      ],
      "metadata": {
        "id": "Qb1mVGfnk6G5"
      }
    },
    {
      "cell_type": "code",
      "source": [
        "#example list\n",
        "A = [1, 2, 3, 4, 5, 6, 7, 8, 9, 21, 23, 24]\n",
        "\n",
        "#filtering the multiples of 3 from above list\n",
        "g = [n for n in A if n % 3 == 0]\n",
        "\n",
        "# Removing odd numbers from the filtered list\n",
        "res = [n for n in g if n % 2 == 0]\n",
        "print(\"List:\", A)\n",
        "print(\"multiples of 3:\",g)\n",
        "print(\"even multiples of 3:\",res)\n"
      ],
      "metadata": {
        "colab": {
          "base_uri": "https://localhost:8080/"
        },
        "id": "q0LoWypWOXuq",
        "outputId": "9168057b-da16-4ac4-f107-fb804336e66c"
      },
      "execution_count": 15,
      "outputs": [
        {
          "output_type": "stream",
          "name": "stdout",
          "text": [
            "List: [1, 2, 3, 4, 5, 6, 7, 8, 9, 21, 23, 24]\n",
            "multiples of 3: [3, 6, 9, 21, 24]\n",
            "even multiples of 3: [6, 24]\n"
          ]
        }
      ]
    },
    {
      "cell_type": "markdown",
      "source": [
        "## 6. How you can access keys and values simultaneously and update its value"
      ],
      "metadata": {
        "id": "auhYyjixk6FD"
      }
    },
    {
      "cell_type": "code",
      "source": [
        "d= {'a': 24, 'b': 15, 'c': 33, 'd': 90}\n",
        "\n",
        "# Accessing keys and values simultaneously using items()\n",
        "for key, value in d.items():\n",
        "    print(\"Key\", key, \"Value\", value)\n",
        "\n",
        "# Updating the value of a specific key\n",
        "s = 'b'\n",
        "upd = 29\n",
        "\n",
        "# Check if the key exists before updating\n",
        "if s in d:\n",
        "    d[s] = upd\n",
        "    print(\"Found in the dictionary\")\n",
        "else:\n",
        "    print(\"Not found in the dictionary.\")\n",
        "print(\"Updated Dictionary:\", d)\n"
      ],
      "metadata": {
        "colab": {
          "base_uri": "https://localhost:8080/"
        },
        "id": "lWQNHs4KPCsV",
        "outputId": "faf6eb26-c4e4-49bd-9a14-1b178789958b"
      },
      "execution_count": 18,
      "outputs": [
        {
          "output_type": "stream",
          "name": "stdout",
          "text": [
            "Key a Value 24\n",
            "Key b Value 15\n",
            "Key c Value 33\n",
            "Key d Value 90\n",
            "Found in the dictionary\n",
            "Updated Dictionary: {'a': 24, 'b': 29, 'c': 33, 'd': 90}\n"
          ]
        }
      ]
    },
    {
      "cell_type": "markdown",
      "source": [
        "## 7. Write python program to join, merge, concatente the two dictionaries..\n"
      ],
      "metadata": {
        "id": "vV00n0awk5_G"
      }
    },
    {
      "cell_type": "code",
      "source": [
        "d1 = {'a': 4, 'b': 6}\n",
        "d2 = {'c': 37, 'd': 24}\n",
        "\n",
        "# Merging or join or concatenating dictionaries\n",
        "m = d1.copy()\n",
        "m.update(d2)\n",
        "\n",
        "print(\"Dictionary 1:\", d1)\n",
        "print(\"Dictionary 2:\", d2)\n",
        "print(\"Merged Dictionary:\", m)\n"
      ],
      "metadata": {
        "colab": {
          "base_uri": "https://localhost:8080/"
        },
        "id": "A1lAKc5yQ2Pr",
        "outputId": "0cc13c6b-69e0-492a-a762-0444844399ce"
      },
      "execution_count": 19,
      "outputs": [
        {
          "output_type": "stream",
          "name": "stdout",
          "text": [
            "Dictionary 1: {'a': 4, 'b': 6}\n",
            "Dictionary 2: {'c': 37, 'd': 24}\n",
            "Merged Dictionary: {'a': 4, 'b': 6, 'c': 37, 'd': 24}\n"
          ]
        }
      ]
    },
    {
      "cell_type": "markdown",
      "source": [
        "## 8. How would you check a specific keys from the dictionary??\n"
      ],
      "metadata": {
        "id": "Z_7dpypWnQ-z"
      }
    },
    {
      "cell_type": "code",
      "source": [
        "d = {'a': 10, 'b': 20, 'c': 30, 'd': 40}\n",
        "\n",
        "# Checking specific key is present in dictionary or not\n",
        "check_key = 'b'\n",
        "if check_key in d:\n",
        "    print(\"The key is present and its value is:\", {d[check_key]})\n",
        "else:\n",
        "    print(\"The key is not present in the dictionary.\")\n"
      ],
      "metadata": {
        "colab": {
          "base_uri": "https://localhost:8080/"
        },
        "id": "iws4383hTol5",
        "outputId": "eff095bd-b690-478a-9f54-1a91601f90b2"
      },
      "execution_count": 20,
      "outputs": [
        {
          "output_type": "stream",
          "name": "stdout",
          "text": [
            "The key is present and its value is: {20}\n"
          ]
        }
      ]
    },
    {
      "cell_type": "markdown",
      "source": [
        "## 9. write a python program to find the unique vowel present in the sentence"
      ],
      "metadata": {
        "id": "EjxeB4ntnirH"
      }
    },
    {
      "cell_type": "code",
      "source": [
        "def find_vow(g):\n",
        "    vowels = set(\"aeiouAEIOU\")\n",
        "    uni = set()\n",
        "\n",
        "    for char in g:\n",
        "        if char in vowels:\n",
        "            uni.add(char)\n",
        "\n",
        "    return sorted(list(uni))\n",
        "\n",
        "sentence= \"Good Morning Everyone, Have a nice day!\"\n",
        "result = find_vow(sentence)\n",
        "\n",
        "print(\"Sentence\",sentence)\n",
        "print(\"Unique Vowels in a sentence is: \",result)\n"
      ],
      "metadata": {
        "colab": {
          "base_uri": "https://localhost:8080/"
        },
        "id": "0kMMmpksU24k",
        "outputId": "fecacca6-c236-4626-e483-94254bcc5854"
      },
      "execution_count": 21,
      "outputs": [
        {
          "output_type": "stream",
          "name": "stdout",
          "text": [
            "Sentence Good Morning Everyone, Have a nice day!\n",
            "Unique Vowels in a sentence is:  ['E', 'a', 'e', 'i', 'o']\n"
          ]
        }
      ]
    },
    {
      "cell_type": "markdown",
      "source": [
        "## 10. We know that tuple is immutable, do any thing and add element to the tuples."
      ],
      "metadata": {
        "id": "B1VBImcfns6V"
      }
    },
    {
      "cell_type": "code",
      "source": [
        "#through concatenation\n",
        "t1 = (1, 2, 3)\n",
        "t2 = (4, 5, 6)\n",
        "new_tuple = t1 + t2\n",
        "print(new_tuple)\n",
        "\n",
        "#conveting to list and adds elements and converting to tuple\n",
        "t = (1,2,3,9,4)\n",
        "l= list(t)\n",
        "l.append(6)\n",
        "upd_tup=tuple(l)\n",
        "print(upd_tup)\n",
        "\n"
      ],
      "metadata": {
        "colab": {
          "base_uri": "https://localhost:8080/"
        },
        "id": "X4jvWt5HZYeH",
        "outputId": "dd91405e-d3e5-4942-a9eb-d968e80e3530"
      },
      "execution_count": 22,
      "outputs": [
        {
          "output_type": "stream",
          "name": "stdout",
          "text": [
            "(1, 2, 3, 4, 5, 6)\n",
            "(1, 2, 3, 9, 4, 6)\n"
          ]
        }
      ]
    },
    {
      "cell_type": "markdown",
      "source": [
        "## 11. How would you sum the list of tuple and sum of tuple of list\n",
        "list  = [(2,3),(4,5),(6,4)]\n",
        "output= [5,9,10]\n",
        "\n",
        "tuple  =([2,3],[4,5],[6,4])\n",
        "output  =  (5,9,10)"
      ],
      "metadata": {
        "id": "Yd7tDQHuoGFm"
      }
    },
    {
      "cell_type": "code",
      "source": [
        "# List of Tuples\n",
        "list_of_tuples = [(1,4), (7, 3), (8, 2)]\n",
        "\n",
        "# Sum of  list of tuples\n",
        "sum1 = sum(sum(t) for t in list_of_tuples)\n",
        "\n",
        "print(\"List of Tuples:\", list_of_tuples)\n",
        "print(\"Sum of List of Tuples:\", sum1)\n",
        "\n",
        "# Tuple of Lists\n",
        "tuple_of_lists = ([1, 2, 3], [4, 5, 6], [7, 8, 9])\n",
        "\n",
        "# Sum of tuple of lists\n",
        "sum2= tuple(sum(sublist) for sublist in tuple_of_lists)\n",
        "\n",
        "print(\"Tuple of Lists:\", tuple_of_lists)\n",
        "print(\"Sum of Tuple of Lists:\", sum2)\n"
      ],
      "metadata": {
        "colab": {
          "base_uri": "https://localhost:8080/"
        },
        "id": "z17mqz0xaYfo",
        "outputId": "6b90a7b0-ec98-4656-e977-cbe5252edca6"
      },
      "execution_count": 23,
      "outputs": [
        {
          "output_type": "stream",
          "name": "stdout",
          "text": [
            "List of Tuples: [(1, 4), (7, 3), (8, 2)]\n",
            "Sum of List of Tuples: 25\n",
            "Tuple of Lists: ([1, 2, 3], [4, 5, 6], [7, 8, 9])\n",
            "Sum of Tuple of Lists: (6, 15, 24)\n"
          ]
        }
      ]
    },
    {
      "cell_type": "markdown",
      "source": [
        "## 12. FIND THE FREQUENCY OF THE KEYS IN THE GIVEN DICTIONARY"
      ],
      "metadata": {
        "id": "YiXg_vDpoq7X"
      }
    },
    {
      "cell_type": "code",
      "source": [
        "d = {'a': 26, 'b': 99, 'c': 71, 'd': 60, 'e': 37}\n",
        "freq = {}\n",
        "\n",
        "# Counting the frequency of each key in given dictionary\n",
        "for key in d:\n",
        "    if key in freq:\n",
        "        freq[key] += 1\n",
        "    else:\n",
        "        freq[key] = 1\n",
        "\n",
        "# Displaying the frequency of keys\n",
        "for key, frequency in freq.items():\n",
        "    print(\"Key\",key,\"occures in given dictionary \",frequency, \"times\")\n"
      ],
      "metadata": {
        "colab": {
          "base_uri": "https://localhost:8080/"
        },
        "id": "_p0K0JqWbCEM",
        "outputId": "3a7be736-f48e-4c0e-a812-196ef69ed3b2"
      },
      "execution_count": 29,
      "outputs": [
        {
          "output_type": "stream",
          "name": "stdout",
          "text": [
            "Key a occures in given dictionary  1 times\n",
            "Key b occures in given dictionary  1 times\n",
            "Key c occures in given dictionary  1 times\n",
            "Key d occures in given dictionary  1 times\n",
            "Key e occures in given dictionary  1 times\n"
          ]
        }
      ]
    }
  ]
}