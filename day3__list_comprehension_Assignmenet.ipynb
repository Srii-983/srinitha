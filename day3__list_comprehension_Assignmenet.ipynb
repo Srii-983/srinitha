{
  "nbformat": 4,
  "nbformat_minor": 0,
  "metadata": {
    "colab": {
      "provenance": [],
      "include_colab_link": true
    },
    "kernelspec": {
      "name": "python3",
      "display_name": "Python 3"
    },
    "language_info": {
      "name": "python"
    }
  },
  "cells": [
    {
      "cell_type": "markdown",
      "metadata": {
        "id": "view-in-github",
        "colab_type": "text"
      },
      "source": [
        "<a href=\"https://colab.research.google.com/github/Srii-983/srinitha/blob/main/day3__list_comprehension_Assignmenet.ipynb\" target=\"_parent\"><img src=\"https://colab.research.google.com/assets/colab-badge.svg\" alt=\"Open In Colab\"/></a>"
      ]
    },
    {
      "cell_type": "markdown",
      "source": [],
      "metadata": {
        "id": "KZ91_NegViLz"
      }
    },
    {
      "cell_type": "markdown",
      "source": [
        "## problem 1\n",
        "Create a dictionary where the keys correspond to the area of a flat adn value for each is the price of the house for 10 flat in kompally"
      ],
      "metadata": {
        "id": "B1Fhdmi9V3LI"
      }
    },
    {
      "cell_type": "code",
      "source": [
        "# Dictionary of house area and house prices of 10 houses\n",
        "#HInt: area_price = {area:price}\n",
        "d = {\n",
        "    '1200': 150000,\n",
        "    '1100': 125000,\n",
        "    '1500': 180000,\n",
        "    '1750': 210000,\n",
        "    '1450': 175000,\n",
        "    '1550': 190000,\n",
        "    '1250': 155000,\n",
        "    '1300': 160000,\n",
        "    '1400': 170000,\n",
        "    '1800': 230000\n",
        "}\n",
        "print(d)\n",
        "\n"
      ],
      "metadata": {
        "id": "zihWmw3NWXQX",
        "colab": {
          "base_uri": "https://localhost:8080/"
        },
        "outputId": "1dcd1a5a-e2f3-4eaa-cd78-01ef8f395273"
      },
      "execution_count": 2,
      "outputs": [
        {
          "output_type": "stream",
          "name": "stdout",
          "text": [
            "{'1200': 150000, '1100': 125000, '1500': 180000, '1750': 210000, '1450': 175000, '1550': 190000, '1250': 155000, '1300': 160000, '1400': 170000, '1800': 230000}\n"
          ]
        }
      ]
    },
    {
      "cell_type": "markdown",
      "source": [
        "### Now broker predicts the price as can be written as : <b><code>predicted_price(area) = 0.06*area + 15</code></b>"
      ],
      "metadata": {
        "id": "JI2jaDf8Wp2D"
      }
    },
    {
      "cell_type": "markdown",
      "source": [
        "Using the concept of list comprehension,create a list of predicted flat price using the above formula\n"
      ],
      "metadata": {
        "id": "v_K_Z8dtW6-D"
      }
    },
    {
      "cell_type": "code",
      "source": [
        "# Create a list of house areas\n",
        "l=[1200,1300,1500,1430,1700,1600,1800,1630,1400,1650]\n",
        "\n",
        "# Use list comprehension to store the predicted house prices in a list\n",
        "predicted_prices = [0.06 * area + 15 for area in l ]\n",
        "\n",
        "# Print the list of predicted flat prices\n",
        "print( predicted_prices)\n"
      ],
      "metadata": {
        "id": "F732P6DHXVYH",
        "colab": {
          "base_uri": "https://localhost:8080/"
        },
        "outputId": "1d38fd3e-aad3-4440-fece-75a02f053481"
      },
      "execution_count": 3,
      "outputs": [
        {
          "output_type": "stream",
          "name": "stdout",
          "text": [
            "[87.0, 93.0, 105.0, 100.8, 117.0, 111.0, 123.0, 112.8, 99.0, 114.0]\n"
          ]
        }
      ]
    },
    {
      "cell_type": "markdown",
      "source": [
        "## Create another list which contains the squares of differences of each element of the two price lists : the actual prices and the predicted prices\n"
      ],
      "metadata": {
        "id": "-ZrRO78DXZq6"
      }
    },
    {
      "cell_type": "code",
      "source": [
        "\n",
        "actual_prices = [120000,125000,135000,130000,178000,166000,180000,167000,128000,170000]\n",
        "pred_prices=[87.0, 93.0, 105.0, 100.8, 117.0, 111.0, 123.0, 112.8, 99.0, 114.0]\n",
        "# Squares of differences between actual and predicted prices\n",
        "squares_of_differences = [(actual - predicted) ** 2 for actual, predicted in zip(actual_prices, predicted_prices)]\n",
        "\n",
        "# Print the results\n",
        "print(\"Squares of Differences:\", squares_of_differences)\n"
      ],
      "metadata": {
        "id": "dEpxZqK7XzeD",
        "colab": {
          "base_uri": "https://localhost:8080/"
        },
        "outputId": "11495a57-a6c0-477a-a678-e28fc191c7ec"
      },
      "execution_count": 4,
      "outputs": [
        {
          "output_type": "stream",
          "name": "stdout",
          "text": [
            "Squares of Differences: [14379127569.0, 15601758649.0, 18196661025.0, 16873802160.64, 31642361689.0, 27519160321.0, 32355735129.0, 27851337523.840004, 16358665801.0, 28861252996.0]\n"
          ]
        }
      ]
    },
    {
      "cell_type": "markdown",
      "source": [
        "## <u> Problem 2</u>\n",
        "\n",
        "## A sigmoid function is a mathematical function having a characteristic \"S\"-shaped curve or sigmoid curve. A common example of a sigmoid function is the logistic function shown in the first figure and defined by the formula:\n",
        "\n",
        "$$ h(x) =  \\frac{\\mathrm{1} }{\\mathrm{1} + e^{-x} }  $$\n",
        "\n",
        "\n",
        "## Range is defined as all the possible values which the function $h(x)$ can take. Domain is defined as all the possible values which $x$ can take. In this case, range of the function is between 0 to 1 and the domain of the function is all real numbers"
      ],
      "metadata": {
        "id": "PEC_OtXRXrCg"
      }
    },
    {
      "cell_type": "markdown",
      "source": [
        "### You are given a list of values of $x$. You need to use list comprehension to calculate the corresponding transformation according to the sigmoid function defined above"
      ],
      "metadata": {
        "id": "YZCTres_XsB0"
      }
    },
    {
      "cell_type": "code",
      "source": [
        "# Return a list of boolean values if the sigmoid_of_x is greater than or equal to 0 and less than or equal to 1\n",
        "from math import exp\n",
        "\n",
        "l = [2,7,3,9,3,-1,-2]\n",
        "m = [1 / (1 + exp(-x)) for x in l]\n",
        "boolean = [True if (x >= 0 and x <= 1) else False for x in m]\n",
        "# Create a list of those values which are greater than 0.5\n",
        "result = [x for x in m if x > 0.5]\n",
        "print(boolean)\n",
        "print(result)\n"
      ],
      "metadata": {
        "id": "TmYb4SluYC4S",
        "colab": {
          "base_uri": "https://localhost:8080/"
        },
        "outputId": "69f84b62-f9df-4428-b125-d0362360848f"
      },
      "execution_count": 11,
      "outputs": [
        {
          "output_type": "stream",
          "name": "stdout",
          "text": [
            "[True, True, True, True, True, True, True]\n",
            "[0.8807970779778823, 0.9990889488055994, 0.9525741268224334, 0.9998766054240137, 0.9525741268224334]\n"
          ]
        }
      ]
    },
    {
      "cell_type": "markdown",
      "source": [
        "# <u> Problem 3</u>\n",
        "\n",
        "## You are given a sentence : <code>\"I have been walking and running and dancing and smiling and laughing all my life, yet it all seems pointless. So i stoped thinking and started doing\"</code>\n",
        "\n",
        "## You are required to extract all those words from this sentence in a list which ends with <code>ing</code>"
      ],
      "metadata": {
        "id": "j31JnVUtYNU-"
      }
    },
    {
      "cell_type": "code",
      "source": [
        "s=\"I have been walking and running and dancing and smiling and laughing all my life, yet it all seems pointless. So i stoped thinking and started doing\"\n",
        "words=s.split()\n",
        "result = [word.strip(\",.\") for word in words if word.endswith(\"ing\")]\n",
        "print(result)"
      ],
      "metadata": {
        "id": "8s6rFnH2YO1z",
        "colab": {
          "base_uri": "https://localhost:8080/"
        },
        "outputId": "a519b2c2-a21d-409a-8a00-f89936b8b4e4"
      },
      "execution_count": 12,
      "outputs": [
        {
          "output_type": "stream",
          "name": "stdout",
          "text": [
            "['walking', 'running', 'dancing', 'smiling', 'laughing', 'thinking', 'doing']\n"
          ]
        }
      ]
    },
    {
      "cell_type": "markdown",
      "source": [
        "# <u> Problem 4</u>\n",
        "\n",
        "#### Natural Language Processing or NLP is one of the most promising fields in Machine Learning. Most of the times in NLP we deal with the textual data (a bunch of strings). Sometimes when we are processing the text, it is a common practice to get rid of some set of stop words from our original text. By default stop words are very common words used in English language such as and, or, punctuations etc.\n",
        "\n",
        "#### In this exercise, you are provided with a default set of stop words and you need to add some extra set of custom words and remove these words from the given sentence and obtain the sentence without the stop words"
      ],
      "metadata": {
        "id": "rYwInhGlYOyz"
      }
    },
    {
      "cell_type": "code",
      "source": [
        "# A sample sentence\n",
        "sen=\"In the heart of the bustling city, there is a quaint coffee shop that exudes warmth and coziness. The aroma of freshly ground coffee beans fills the air, enticing passersby to step inside. Soft jazz music plays in the background, creating a soothing atmosphere. Customers sit comfortably in plush armchairs, sipping on their favorite brews while engrossed in a good book or engaged in friendly conversations. The baristas behind the counter skillfully craft intricate latte art on each cup, adding a touch of creativity to every order. This little haven has become a cherished retreat for those seeking a moment of respite from the fast-paced urban life.\"\n",
        "# Print your sentence\n",
        "print(sen)"
      ],
      "metadata": {
        "id": "b86yHqHEYOpp",
        "colab": {
          "base_uri": "https://localhost:8080/"
        },
        "outputId": "0f0ed079-cc20-4d10-fefb-9477b1acc19c"
      },
      "execution_count": 15,
      "outputs": [
        {
          "output_type": "stream",
          "name": "stdout",
          "text": [
            "In the heart of the bustling city, there is a quaint coffee shop that exudes warmth and coziness. The aroma of freshly ground coffee beans fills the air, enticing passersby to step inside. Soft jazz music plays in the background, creating a soothing atmosphere. Customers sit comfortably in plush armchairs, sipping on their favorite brews while engrossed in a good book or engaged in friendly conversations. The baristas behind the counter skillfully craft intricate latte art on each cup, adding a touch of creativity to every order. This little haven has become a cherished retreat for those seeking a moment of respite from the fast-paced urban life.\n"
          ]
        }
      ]
    },
    {
      "cell_type": "code",
      "source": [
        "# Default set of stop words\n",
        "stop_words = {\"i\", \"me\", \"my\", \"myself\", \"we\", \"our\", \"ours\", \"ourselves\", \"you\", \"your\", \"yours\", \"yourself\",\n",
        "              \"yourselves\", \"he\", \"him\", \"his\", \"himself\", \"she\", \"her\", \"hers\", \"herself\", \"it\", \"its\", \"itself\",\n",
        "              \"they\", \"them\", \"their\", \"theirs\", \"themselves\", \"what\", \"which\", \"who\", \"whom\", \"this\", \"that\",\n",
        "              \"these\", \"those\", \"am\", \"is\", \"are\", \"was\", \"were\", \"be\", \"been\", \"being\", \"have\", \"has\", \"had\",\n",
        "              \"having\", \"do\", \"does\", \"did\", \"doing\", \"a\", \"an\", \"the\", \"and\", \"but\", \"if\", \"or\", \"because\",\n",
        "              \"as\", \"until\", \"while\", \"of\", \"at\", \"by\", \"for\", \"with\", \"about\", \"against\", \"between\", \"into\",\n",
        "              \"through\", \"during\", \"before\", \"after\", \"above\", \"below\", \"to\", \"from\", \"up\", \"down\", \"in\", \"out\",\n",
        "              \"on\", \"off\", \"over\", \"under\", \"again\", \"further\", \"then\", \"once\", \"here\", \"there\", \"when\", \"where\",\n",
        "              \"why\", \"how\", \"all\", \"any\", \"both\", \"each\", \"few\", \"more\", \"most\", \"other\", \"some\", \"such\", \"no\",\n",
        "              \"nor\", \"not\", \"only\", \"own\", \"same\", \"so\", \"than\", \"too\", \"very\", \"s\", \"t\", \"can\", \"will\", \"just\",\n",
        "              \"don\", \"should\", \"now\"}"
      ],
      "metadata": {
        "id": "RbyJscXWYh0z"
      },
      "execution_count": 17,
      "outputs": []
    },
    {
      "cell_type": "code",
      "source": [
        "\n",
        "custom_stop_words = [\"hello\",\"folks\",\"good\",\"morning\",\"half\",\"year\"]\n",
        "# Update the set of stop words by adding the custom stop words\n",
        "newstop_words=stop_words.union(custom_stop_words)\n",
        "print(newstop_words)\n"
      ],
      "metadata": {
        "id": "JCZ3mWDEYplT",
        "colab": {
          "base_uri": "https://localhost:8080/"
        },
        "outputId": "acb62173-5317-452a-e2de-a416eeb5b70a"
      },
      "execution_count": 18,
      "outputs": [
        {
          "output_type": "stream",
          "name": "stdout",
          "text": [
            "{'at', 'than', 'which', 'this', 'our', 'hers', 'below', 'has', 'because', 'until', 'are', 'to', 'they', 'up', 'is', 'while', 'such', 'being', 'for', 'in', 's', 'ourselves', 'will', 'myself', 'a', 'during', 'with', 'who', 'him', 'theirs', 'it', 'an', 'there', 'whom', 'off', 'same', 'of', 'here', 'yourself', 'that', 'good', 'i', 'then', 'so', 'both', 'your', 'have', 't', 'only', 'most', 'their', 'were', 'should', 'these', 'when', 'from', 'he', 'we', 'where', 'too', 'above', 'hello', 'be', 'down', 'her', 'under', 'do', 'if', 'half', 'before', 'you', 'yours', 'them', 'as', 'against', 'on', 'am', 'having', 'yourselves', 'the', 'don', 'what', 'or', 'into', 'not', 'through', 'his', 'further', 'very', 'my', 'doing', 'other', 'again', 'no', 'all', 'few', 'themselves', 'now', 'morning', 'own', 'its', 'how', 'about', 'folks', 'been', 'once', 'year', 'just', 'she', 'between', 'those', 'after', 'itself', 'was', 'nor', 'each', 'me', 'some', 'had', 'any', 'can', 'over', 'and', 'did', 'herself', 'out', 'does', 'himself', 'but', 'why', 'ours', 'by', 'more'}\n"
          ]
        }
      ]
    },
    {
      "cell_type": "code",
      "source": [
        "# Create the list of words in the given sentence.\n",
        "words=sen.split()\n",
        "print(words)"
      ],
      "metadata": {
        "id": "OG_iCUm9Yyx3",
        "colab": {
          "base_uri": "https://localhost:8080/"
        },
        "outputId": "8776b1f8-d6f5-4770-c2e8-c6a0ec660470"
      },
      "execution_count": 20,
      "outputs": [
        {
          "output_type": "stream",
          "name": "stdout",
          "text": [
            "['In', 'the', 'heart', 'of', 'the', 'bustling', 'city,', 'there', 'is', 'a', 'quaint', 'coffee', 'shop', 'that', 'exudes', 'warmth', 'and', 'coziness.', 'The', 'aroma', 'of', 'freshly', 'ground', 'coffee', 'beans', 'fills', 'the', 'air,', 'enticing', 'passersby', 'to', 'step', 'inside.', 'Soft', 'jazz', 'music', 'plays', 'in', 'the', 'background,', 'creating', 'a', 'soothing', 'atmosphere.', 'Customers', 'sit', 'comfortably', 'in', 'plush', 'armchairs,', 'sipping', 'on', 'their', 'favorite', 'brews', 'while', 'engrossed', 'in', 'a', 'good', 'book', 'or', 'engaged', 'in', 'friendly', 'conversations.', 'The', 'baristas', 'behind', 'the', 'counter', 'skillfully', 'craft', 'intricate', 'latte', 'art', 'on', 'each', 'cup,', 'adding', 'a', 'touch', 'of', 'creativity', 'to', 'every', 'order.', 'This', 'little', 'haven', 'has', 'become', 'a', 'cherished', 'retreat', 'for', 'those', 'seeking', 'a', 'moment', 'of', 'respite', 'from', 'the', 'fast-paced', 'urban', 'life.']\n"
          ]
        }
      ]
    },
    {
      "cell_type": "code",
      "source": [
        "# Use list comprehension to remove the set of updated stop words from the list of words\n",
        "l=[word for word in words if word.lower() not in newstop_words]\n",
        "print(l)"
      ],
      "metadata": {
        "id": "Kk665UtXY3UH",
        "colab": {
          "base_uri": "https://localhost:8080/"
        },
        "outputId": "306810dd-7f7e-4f46-87ca-cfd88d6f02a3"
      },
      "execution_count": 21,
      "outputs": [
        {
          "output_type": "stream",
          "name": "stdout",
          "text": [
            "['heart', 'bustling', 'city,', 'quaint', 'coffee', 'shop', 'exudes', 'warmth', 'coziness.', 'aroma', 'freshly', 'ground', 'coffee', 'beans', 'fills', 'air,', 'enticing', 'passersby', 'step', 'inside.', 'Soft', 'jazz', 'music', 'plays', 'background,', 'creating', 'soothing', 'atmosphere.', 'Customers', 'sit', 'comfortably', 'plush', 'armchairs,', 'sipping', 'favorite', 'brews', 'engrossed', 'book', 'engaged', 'friendly', 'conversations.', 'baristas', 'behind', 'counter', 'skillfully', 'craft', 'intricate', 'latte', 'art', 'cup,', 'adding', 'touch', 'creativity', 'every', 'order.', 'little', 'haven', 'become', 'cherished', 'retreat', 'seeking', 'moment', 'respite', 'fast-paced', 'urban', 'life.']\n"
          ]
        }
      ]
    },
    {
      "cell_type": "code",
      "source": [
        "# Finally using the join() method, get the sentence without the stop words. Keep in mind that every word in the sentence will be separated by space\n",
        "new_sen=' '.join(l)\n",
        "# Print the modified sentence\n",
        "print(new_sen)\n"
      ],
      "metadata": {
        "id": "RzO-jDZVY6wD",
        "colab": {
          "base_uri": "https://localhost:8080/"
        },
        "outputId": "fef4f9f7-3c45-41ba-f5f8-a7556605649e"
      },
      "execution_count": 23,
      "outputs": [
        {
          "output_type": "stream",
          "name": "stdout",
          "text": [
            "heart bustling city, quaint coffee shop exudes warmth coziness. aroma freshly ground coffee beans fills air, enticing passersby step inside. Soft jazz music plays background, creating soothing atmosphere. Customers sit comfortably plush armchairs, sipping favorite brews engrossed book engaged friendly conversations. baristas behind counter skillfully craft intricate latte art cup, adding touch creativity every order. little haven become cherished retreat seeking moment respite fast-paced urban life.\n"
          ]
        }
      ]
    }
  ]
}