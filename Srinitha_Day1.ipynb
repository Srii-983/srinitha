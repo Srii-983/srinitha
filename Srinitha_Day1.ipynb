{
  "nbformat": 4,
  "nbformat_minor": 0,
  "metadata": {
    "colab": {
      "provenance": [],
      "include_colab_link": true
    },
    "kernelspec": {
      "name": "python3",
      "display_name": "Python 3"
    },
    "language_info": {
      "name": "python"
    }
  },
  "cells": [
    {
      "cell_type": "markdown",
      "metadata": {
        "id": "view-in-github",
        "colab_type": "text"
      },
      "source": [
        "<a href=\"https://colab.research.google.com/github/Srii-983/srinitha/blob/main/Srinitha_Day1.ipynb\" target=\"_parent\"><img src=\"https://colab.research.google.com/assets/colab-badge.svg\" alt=\"Open In Colab\"/></a>"
      ]
    },
    {
      "cell_type": "markdown",
      "source": [
        "## how would you confimm that two strings have the same identity?"
      ],
      "metadata": {
        "id": "eh5Ph74_HqpD"
      }
    },
    {
      "cell_type": "code",
      "source": [
        "ch1=\"python\"\n",
        "ch2=\"python\"\n",
        "if ch1 is ch2:\n",
        "  print(\"strings are of same identity\")\n",
        "else:\n",
        "  print(\"strings do not have identity\")"
      ],
      "metadata": {
        "id": "oERbt__VktUg",
        "colab": {
          "base_uri": "https://localhost:8080/"
        },
        "outputId": "7a6f146e-a430-4500-ded9-65b4846c5c71"
      },
      "execution_count": 6,
      "outputs": [
        {
          "output_type": "stream",
          "name": "stdout",
          "text": [
            "strings are of same identity\n"
          ]
        }
      ]
    },
    {
      "cell_type": "code",
      "source": [
        "ch1=\"hello world\"\n",
        "ch2=\"hello everyone\"\n",
        "if ch1 is ch2:\n",
        "  print(\"strings are of same identity\")\n",
        "else:\n",
        "  print(\"strings do not have identity\")"
      ],
      "metadata": {
        "colab": {
          "base_uri": "https://localhost:8080/"
        },
        "id": "TyQsLgjJG6ps",
        "outputId": "64984c75-7e8d-4f2a-a020-5489fdc039fb"
      },
      "execution_count": 1,
      "outputs": [
        {
          "output_type": "stream",
          "name": "stdout",
          "text": [
            "strings do not have identity\n"
          ]
        }
      ]
    },
    {
      "cell_type": "markdown",
      "source": [
        "How to find the length and index of the string?"
      ],
      "metadata": {
        "id": "xSfXJRgVHKOB"
      }
    },
    {
      "cell_type": "code",
      "source": [
        "#To find length of string\n",
        "s=\"python\"\n",
        "length=len(s)\n",
        "print(\"Length of the string :\",length)\n",
        "#To find index of string\n",
        "y='t'\n",
        "ind=s.find(y)\n",
        "print(\"Index value is:\",ind)\n",
        "\n"
      ],
      "metadata": {
        "id": "cuEJ9hZ_S4df",
        "colab": {
          "base_uri": "https://localhost:8080/"
        },
        "outputId": "cd7b2ec6-ee0e-4c8d-8b53-5d9bb6dad346"
      },
      "execution_count": 2,
      "outputs": [
        {
          "output_type": "stream",
          "name": "stdout",
          "text": [
            "Length of the string : 6\n",
            "Index value is: 2\n"
          ]
        }
      ]
    },
    {
      "cell_type": "markdown",
      "source": [
        "## how to check a string contain a specific substring"
      ],
      "metadata": {
        "id": "EGK-LzalIO_i"
      }
    },
    {
      "cell_type": "code",
      "source": [
        "\n",
        "s=\"Hello world\"\n",
        "sub_str=\"Hello\"\n",
        "if sub_str in s:\n",
        "  print(\"The string contains the specific string\")\n",
        "else:\n",
        "  print(\"The string does not contain any specific string\")"
      ],
      "metadata": {
        "id": "g1HYIC9gJ7Vi",
        "colab": {
          "base_uri": "https://localhost:8080/"
        },
        "outputId": "c8aaa690-29fc-4c0c-9612-469149018f7f"
      },
      "execution_count": 7,
      "outputs": [
        {
          "output_type": "stream",
          "name": "stdout",
          "text": [
            "The string contains the specific string\n"
          ]
        }
      ]
    },
    {
      "cell_type": "markdown",
      "source": [
        "## how to a take a string from backward with two step difference?\n"
      ],
      "metadata": {
        "id": "LmY6RXjoJF9h"
      }
    },
    {
      "cell_type": "code",
      "source": [
        "s=\"hello\"\n",
        "t=s[::-2]\n",
        "print(\"original string is:\",s)\n",
        "print(\"String from backward with two step difference:\",t)"
      ],
      "metadata": {
        "id": "_C_pqVqBJ8AA",
        "colab": {
          "base_uri": "https://localhost:8080/"
        },
        "outputId": "5b9ba4bb-3645-4a82-d0af-2bd34fe1e406"
      },
      "execution_count": 8,
      "outputs": [
        {
          "output_type": "stream",
          "name": "stdout",
          "text": [
            "original string is: hello\n",
            "String from backward with two step difference: olh\n"
          ]
        }
      ]
    },
    {
      "cell_type": "markdown",
      "source": [
        "## how to find the index of the last element"
      ],
      "metadata": {
        "id": "7eg6JfyuJr_2"
      }
    },
    {
      "cell_type": "code",
      "source": [
        "s=\"Hello\"\n",
        "print(\"Index of last element is\", len(s)-1 )"
      ],
      "metadata": {
        "id": "T84ODp77J8zR",
        "colab": {
          "base_uri": "https://localhost:8080/"
        },
        "outputId": "9cd43f2d-a876-4d0c-cd9a-770b85f63da2"
      },
      "execution_count": 9,
      "outputs": [
        {
          "output_type": "stream",
          "name": "stdout",
          "text": [
            "Index of last element is 4\n"
          ]
        }
      ]
    },
    {
      "cell_type": "markdown",
      "source": [
        "## Write 2 ways to concatinate the string"
      ],
      "metadata": {
        "id": "FTdxvLc1J0lv"
      }
    },
    {
      "cell_type": "code",
      "source": [
        "#First way\n",
        "s1=\"Hello\"\n",
        "s2=\"Peeps!\"\n",
        "print(s1+ \" \"+s2)\n"
      ],
      "metadata": {
        "id": "j8P9ODeTJ9Zz",
        "colab": {
          "base_uri": "https://localhost:8080/"
        },
        "outputId": "fba4bb3a-ff5c-4929-a957-26d7a5620b43"
      },
      "execution_count": 3,
      "outputs": [
        {
          "output_type": "stream",
          "name": "stdout",
          "text": [
            "Hello Peeps!\n"
          ]
        }
      ]
    },
    {
      "cell_type": "code",
      "source": [
        "#Second way\n",
        "s=[\"Hi\",\" \",\"Good Morning\"]\n",
        "con_str=\"\".join(s)\n",
        "print(con_str)\n"
      ],
      "metadata": {
        "colab": {
          "base_uri": "https://localhost:8080/"
        },
        "id": "fODZOUOAb4dc",
        "outputId": "58b40c4e-63b6-4e08-f7ee-e700b53853f6"
      },
      "execution_count": 5,
      "outputs": [
        {
          "output_type": "stream",
          "name": "stdout",
          "text": [
            "Hi Good Morning\n"
          ]
        }
      ]
    }
  ]
}