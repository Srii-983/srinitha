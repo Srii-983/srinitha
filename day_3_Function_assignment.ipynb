{
  "nbformat": 4,
  "nbformat_minor": 0,
  "metadata": {
    "colab": {
      "provenance": [],
      "include_colab_link": true
    },
    "kernelspec": {
      "name": "python3",
      "display_name": "Python 3"
    },
    "language_info": {
      "name": "python"
    }
  },
  "cells": [
    {
      "cell_type": "markdown",
      "metadata": {
        "id": "view-in-github",
        "colab_type": "text"
      },
      "source": [
        "<a href=\"https://colab.research.google.com/github/Srii-983/srinitha/blob/main/day_3_Function_assignment.ipynb\" target=\"_parent\"><img src=\"https://colab.research.google.com/assets/colab-badge.svg\" alt=\"Open In Colab\"/></a>"
      ]
    },
    {
      "cell_type": "markdown",
      "source": [
        "## Write a python program to crate a lambda funciotn that adds 15 to a given numebr\n"
      ],
      "metadata": {
        "id": "Cu2MTBpAH98v"
      }
    },
    {
      "cell_type": "code",
      "source": [
        "# Define a lambda function to add 15 to a given numbe\n",
        "input = 30\n",
        "sum = lambda x : x + 15\n",
        "\n",
        "# Print the result\n",
        "print(sum(input))\n"
      ],
      "metadata": {
        "id": "QBZKf4hYIYh-",
        "outputId": "d3a3a7e3-3318-49a1-f97f-5a56ed765825",
        "colab": {
          "base_uri": "https://localhost:8080/"
        }
      },
      "execution_count": null,
      "outputs": [
        {
          "output_type": "stream",
          "name": "stdout",
          "text": [
            "45\n"
          ]
        }
      ]
    },
    {
      "cell_type": "code",
      "source": [],
      "metadata": {
        "id": "ERMc1QfnIYgd"
      },
      "execution_count": null,
      "outputs": []
    },
    {
      "cell_type": "markdown",
      "source": [
        "## Write a funciton to create a prime number generator"
      ],
      "metadata": {
        "id": "QvheE-ZfIJFc"
      }
    },
    {
      "cell_type": "code",
      "source": [
        "def is_prime(num):\n",
        "    if num < 2:\n",
        "        return False\n",
        "    for i in range(2, int(num**0.5) + 1):\n",
        "        if num % i == 0:\n",
        "            return False\n",
        "    return True\n",
        "\n",
        "def prime_generator():\n",
        "    num = 2\n",
        "    while True:\n",
        "        if is_prime(num):\n",
        "            yield num\n",
        "        num += 1\n",
        "\n",
        "prime = prime_generator()\n",
        "for _ in range(5):\n",
        "    print(next(prime))\n"
      ],
      "metadata": {
        "id": "z19r-AaMIIlC",
        "colab": {
          "base_uri": "https://localhost:8080/"
        },
        "outputId": "f2a756b1-bdc6-4775-e593-359766e1bb67"
      },
      "execution_count": 4,
      "outputs": [
        {
          "output_type": "stream",
          "name": "stdout",
          "text": [
            "2\n",
            "3\n",
            "5\n",
            "7\n",
            "11\n"
          ]
        }
      ]
    },
    {
      "cell_type": "markdown",
      "source": [
        "## Create a lambda funtion to filter out the even numebr from a given list"
      ],
      "metadata": {
        "id": "fgG1qcgaIZKL"
      }
    },
    {
      "cell_type": "code",
      "source": [
        "l=[2,5,8,6,0,4,3,9]\n",
        "even = lambda x: x % 2 == 0\n",
        "# Use filter()\n",
        "even_num = list(filter(even, l))\n",
        "print(even_num)\n"
      ],
      "metadata": {
        "id": "FWQS-SgjImHw",
        "colab": {
          "base_uri": "https://localhost:8080/"
        },
        "outputId": "3b5f8485-0483-4fc6-9ab6-7c69c475c117"
      },
      "execution_count": 8,
      "outputs": [
        {
          "output_type": "stream",
          "name": "stdout",
          "text": [
            "[2, 8, 6, 0, 4]\n"
          ]
        }
      ]
    },
    {
      "cell_type": "markdown",
      "source": [
        "## Create a funciton for prime numebr generator"
      ],
      "metadata": {
        "id": "c1H7iXqDIuJI"
      }
    },
    {
      "cell_type": "code",
      "source": [
        "def is_prime(num):\n",
        "    if num < 2:\n",
        "        return False\n",
        "    for i in range(2, int(num**0.5) + 1):\n",
        "        if num % i == 0:\n",
        "            return False\n",
        "    return True\n",
        "\n",
        "def prime_generator():\n",
        "    num = 2\n",
        "    while True:\n",
        "        if is_prime(num):\n",
        "            yield num\n",
        "        num += 1\n",
        "\n",
        "prime = prime_generator()\n",
        "for _ in range(5):\n",
        "    print(next(prime))\n"
      ],
      "metadata": {
        "id": "B6zt1ESKI2T4",
        "colab": {
          "base_uri": "https://localhost:8080/"
        },
        "outputId": "b0a5d77a-f560-4e5a-ef74-4f0f0bc50d18"
      },
      "execution_count": 11,
      "outputs": [
        {
          "output_type": "stream",
          "name": "stdout",
          "text": [
            "2\n",
            "3\n",
            "5\n",
            "7\n",
            "11\n"
          ]
        }
      ]
    },
    {
      "cell_type": "markdown",
      "source": [
        "## create funciton for fibbonacci series generator"
      ],
      "metadata": {
        "id": "NMp0TAZaI18z"
      }
    },
    {
      "cell_type": "code",
      "source": [
        "def fibonacci_generator(n):\n",
        "    a, b = 0, 1\n",
        "    count = 0\n",
        "    while n is None or count < n:\n",
        "        yield a\n",
        "        a, b = b, a + b\n",
        "        count += 1\n",
        "for f in fibonacci_generator(10):\n",
        "    print(f)\n"
      ],
      "metadata": {
        "id": "dpa2ABE8JCnt",
        "colab": {
          "base_uri": "https://localhost:8080/"
        },
        "outputId": "cdccd249-b632-4cf4-8c3c-6a883fdace81"
      },
      "execution_count": 14,
      "outputs": [
        {
          "output_type": "stream",
          "name": "stdout",
          "text": [
            "0\n",
            "1\n",
            "1\n",
            "2\n",
            "3\n",
            "5\n",
            "8\n",
            "13\n",
            "21\n",
            "34\n"
          ]
        }
      ]
    }
  ]
}